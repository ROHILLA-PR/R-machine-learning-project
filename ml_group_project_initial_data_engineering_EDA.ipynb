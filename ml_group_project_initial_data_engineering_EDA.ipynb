{
 "cells": [
  {
   "cell_type": "code",
   "execution_count": 71,
   "id": "0f99e132-bca8-4b91-8ef0-5c2e5f5118b5",
   "metadata": {},
   "outputs": [],
   "source": [
    "import pandas as pd\n",
    "import numpy as np\n",
    "\n",
    "# Data visualization\n",
    "import matplotlib.pyplot as plt\n",
    "import seaborn as sns\n",
    "\n",
    "# Statistics\n",
    "import scipy.stats as stats\n",
    "from statsmodels.formula.api import ols\n",
    "import statsmodels.api as sm\n"
   ]
  },
  {
   "cell_type": "code",
   "execution_count": 3,
   "id": "5849eb8c-440c-4e8a-9161-698569afed84",
   "metadata": {},
   "outputs": [],
   "source": [
    "df = pd.read_csv(r\"C:\\Users\\Pratyush Rohilla\\Downloads\\cleaned_data_updated__csv_.csv\")\n",
    "#\"C:\\Users\\Pratyush Rohilla\\Downloads\\2022_2023_football_summer_transfers_v2.csv\""
   ]
  },
  {
   "cell_type": "code",
   "execution_count": 5,
   "id": "cd67613a-3b5d-4ebe-a51b-1670242b64c3",
   "metadata": {},
   "outputs": [
    {
     "data": {
      "text/html": [
       "<div>\n",
       "<style scoped>\n",
       "    .dataframe tbody tr th:only-of-type {\n",
       "        vertical-align: middle;\n",
       "    }\n",
       "\n",
       "    .dataframe tbody tr th {\n",
       "        vertical-align: top;\n",
       "    }\n",
       "\n",
       "    .dataframe thead th {\n",
       "        text-align: right;\n",
       "    }\n",
       "</style>\n",
       "<table border=\"1\" class=\"dataframe\">\n",
       "  <thead>\n",
       "    <tr style=\"text-align: right;\">\n",
       "      <th></th>\n",
       "      <th>name</th>\n",
       "      <th>position</th>\n",
       "      <th>age</th>\n",
       "      <th>market_value</th>\n",
       "      <th>country_from</th>\n",
       "      <th>league_from</th>\n",
       "      <th>club_from</th>\n",
       "      <th>country_to</th>\n",
       "      <th>league_to</th>\n",
       "      <th>club_to</th>\n",
       "      <th>fee</th>\n",
       "      <th>loan</th>\n",
       "    </tr>\n",
       "  </thead>\n",
       "  <tbody>\n",
       "    <tr>\n",
       "      <th>0</th>\n",
       "      <td>Erling Haaland</td>\n",
       "      <td>Centre-Forward</td>\n",
       "      <td>21</td>\n",
       "      <td>150.0</td>\n",
       "      <td>Germany</td>\n",
       "      <td>Bundesliga</td>\n",
       "      <td>Borussia Dortmund</td>\n",
       "      <td>England</td>\n",
       "      <td>Premier League</td>\n",
       "      <td>Manchester City</td>\n",
       "      <td>60.00</td>\n",
       "      <td>False</td>\n",
       "    </tr>\n",
       "    <tr>\n",
       "      <th>1</th>\n",
       "      <td>Antony</td>\n",
       "      <td>Right Winger</td>\n",
       "      <td>22</td>\n",
       "      <td>35.0</td>\n",
       "      <td>Netherlands</td>\n",
       "      <td>Eredivisie</td>\n",
       "      <td>Ajax Amsterdam</td>\n",
       "      <td>England</td>\n",
       "      <td>Premier League</td>\n",
       "      <td>Manchester United</td>\n",
       "      <td>95.00</td>\n",
       "      <td>False</td>\n",
       "    </tr>\n",
       "    <tr>\n",
       "      <th>2</th>\n",
       "      <td>Wesley Fofana</td>\n",
       "      <td>Centre-Back</td>\n",
       "      <td>21</td>\n",
       "      <td>40.0</td>\n",
       "      <td>England</td>\n",
       "      <td>Premier League</td>\n",
       "      <td>Leicester City</td>\n",
       "      <td>England</td>\n",
       "      <td>Premier League</td>\n",
       "      <td>Chelsea FC</td>\n",
       "      <td>80.40</td>\n",
       "      <td>False</td>\n",
       "    </tr>\n",
       "    <tr>\n",
       "      <th>3</th>\n",
       "      <td>Darwin Núñez</td>\n",
       "      <td>Centre-Forward</td>\n",
       "      <td>23</td>\n",
       "      <td>55.0</td>\n",
       "      <td>Portugal</td>\n",
       "      <td>Liga Portugal</td>\n",
       "      <td>SL Benfica</td>\n",
       "      <td>England</td>\n",
       "      <td>Premier League</td>\n",
       "      <td>Liverpool FC</td>\n",
       "      <td>75.00</td>\n",
       "      <td>False</td>\n",
       "    </tr>\n",
       "    <tr>\n",
       "      <th>4</th>\n",
       "      <td>Casemiro</td>\n",
       "      <td>Defensive Midfield</td>\n",
       "      <td>30</td>\n",
       "      <td>40.0</td>\n",
       "      <td>Spain</td>\n",
       "      <td>LaLiga</td>\n",
       "      <td>Real Madrid</td>\n",
       "      <td>England</td>\n",
       "      <td>Premier League</td>\n",
       "      <td>Manchester United</td>\n",
       "      <td>70.65</td>\n",
       "      <td>False</td>\n",
       "    </tr>\n",
       "    <tr>\n",
       "      <th>5</th>\n",
       "      <td>Alexander Isak</td>\n",
       "      <td>Centre-Forward</td>\n",
       "      <td>22</td>\n",
       "      <td>30.0</td>\n",
       "      <td>Spain</td>\n",
       "      <td>LaLiga</td>\n",
       "      <td>Real Sociedad</td>\n",
       "      <td>England</td>\n",
       "      <td>Premier League</td>\n",
       "      <td>Newcastle United</td>\n",
       "      <td>70.00</td>\n",
       "      <td>False</td>\n",
       "    </tr>\n",
       "    <tr>\n",
       "      <th>6</th>\n",
       "      <td>Matthijs de Ligt</td>\n",
       "      <td>Centre-Back</td>\n",
       "      <td>22</td>\n",
       "      <td>70.0</td>\n",
       "      <td>Italy</td>\n",
       "      <td>Serie A</td>\n",
       "      <td>Juventus FC</td>\n",
       "      <td>Germany</td>\n",
       "      <td>Bundesliga</td>\n",
       "      <td>Bayern Munich</td>\n",
       "      <td>67.00</td>\n",
       "      <td>False</td>\n",
       "    </tr>\n",
       "    <tr>\n",
       "      <th>7</th>\n",
       "      <td>Raheem Sterling</td>\n",
       "      <td>Left Winger</td>\n",
       "      <td>27</td>\n",
       "      <td>70.0</td>\n",
       "      <td>England</td>\n",
       "      <td>Premier League</td>\n",
       "      <td>Manchester City</td>\n",
       "      <td>England</td>\n",
       "      <td>Premier League</td>\n",
       "      <td>Chelsea FC</td>\n",
       "      <td>56.20</td>\n",
       "      <td>False</td>\n",
       "    </tr>\n",
       "    <tr>\n",
       "      <th>8</th>\n",
       "      <td>Sadio Mané</td>\n",
       "      <td>Left Winger</td>\n",
       "      <td>30</td>\n",
       "      <td>70.0</td>\n",
       "      <td>England</td>\n",
       "      <td>Premier League</td>\n",
       "      <td>Liverpool FC</td>\n",
       "      <td>Germany</td>\n",
       "      <td>Bundesliga</td>\n",
       "      <td>Bayern Munich</td>\n",
       "      <td>32.00</td>\n",
       "      <td>False</td>\n",
       "    </tr>\n",
       "    <tr>\n",
       "      <th>9</th>\n",
       "      <td>Romelu Lukaku</td>\n",
       "      <td>Centre-Forward</td>\n",
       "      <td>29</td>\n",
       "      <td>70.0</td>\n",
       "      <td>England</td>\n",
       "      <td>Premier League</td>\n",
       "      <td>Chelsea FC</td>\n",
       "      <td>Italy</td>\n",
       "      <td>Serie A</td>\n",
       "      <td>Inter Milan</td>\n",
       "      <td>8.00</td>\n",
       "      <td>True</td>\n",
       "    </tr>\n",
       "  </tbody>\n",
       "</table>\n",
       "</div>"
      ],
      "text/plain": [
       "               name            position  age  market_value country_from  \\\n",
       "0    Erling Haaland      Centre-Forward   21         150.0      Germany   \n",
       "1            Antony        Right Winger   22          35.0  Netherlands   \n",
       "2     Wesley Fofana         Centre-Back   21          40.0      England   \n",
       "3      Darwin Núñez      Centre-Forward   23          55.0     Portugal   \n",
       "4          Casemiro  Defensive Midfield   30          40.0        Spain   \n",
       "5    Alexander Isak      Centre-Forward   22          30.0        Spain   \n",
       "6  Matthijs de Ligt         Centre-Back   22          70.0        Italy   \n",
       "7   Raheem Sterling         Left Winger   27          70.0      England   \n",
       "8        Sadio Mané         Left Winger   30          70.0      England   \n",
       "9     Romelu Lukaku      Centre-Forward   29          70.0      England   \n",
       "\n",
       "      league_from          club_from country_to       league_to  \\\n",
       "0      Bundesliga  Borussia Dortmund    England  Premier League   \n",
       "1      Eredivisie     Ajax Amsterdam    England  Premier League   \n",
       "2  Premier League     Leicester City    England  Premier League   \n",
       "3   Liga Portugal         SL Benfica    England  Premier League   \n",
       "4          LaLiga        Real Madrid    England  Premier League   \n",
       "5          LaLiga      Real Sociedad    England  Premier League   \n",
       "6         Serie A        Juventus FC    Germany      Bundesliga   \n",
       "7  Premier League    Manchester City    England  Premier League   \n",
       "8  Premier League       Liverpool FC    Germany      Bundesliga   \n",
       "9  Premier League         Chelsea FC      Italy         Serie A   \n",
       "\n",
       "             club_to    fee   loan  \n",
       "0    Manchester City  60.00  False  \n",
       "1  Manchester United  95.00  False  \n",
       "2         Chelsea FC  80.40  False  \n",
       "3       Liverpool FC  75.00  False  \n",
       "4  Manchester United  70.65  False  \n",
       "5   Newcastle United  70.00  False  \n",
       "6      Bayern Munich  67.00  False  \n",
       "7         Chelsea FC  56.20  False  \n",
       "8      Bayern Munich  32.00  False  \n",
       "9        Inter Milan   8.00   True  "
      ]
     },
     "execution_count": 5,
     "metadata": {},
     "output_type": "execute_result"
    }
   ],
   "source": [
    "df.head(10)"
   ]
  },
  {
   "cell_type": "code",
   "execution_count": 151,
   "id": "c264ed5f-1834-436a-b809-58b3de32d790",
   "metadata": {},
   "outputs": [
    {
     "data": {
      "text/plain": [
       "(649, 12)"
      ]
     },
     "execution_count": 151,
     "metadata": {},
     "output_type": "execute_result"
    }
   ],
   "source": [
    "df.shape"
   ]
  },
  {
   "cell_type": "code",
   "execution_count": 7,
   "id": "c393a295-fd44-4e2d-885d-fba2be2f0ee1",
   "metadata": {},
   "outputs": [
    {
     "data": {
      "text/plain": [
       "loan\n",
       "False    451\n",
       "True     198\n",
       "Name: count, dtype: int64"
      ]
     },
     "execution_count": 7,
     "metadata": {},
     "output_type": "execute_result"
    }
   ],
   "source": [
    "df['loan'].value_counts()"
   ]
  },
  {
   "cell_type": "code",
   "execution_count": 9,
   "id": "ab2efa34-66e7-429f-8fe8-fb947ad4058b",
   "metadata": {},
   "outputs": [
    {
     "name": "stdout",
     "output_type": "stream",
     "text": [
      "<class 'pandas.core.frame.DataFrame'>\n",
      "RangeIndex: 649 entries, 0 to 648\n",
      "Data columns (total 12 columns):\n",
      " #   Column        Non-Null Count  Dtype  \n",
      "---  ------        --------------  -----  \n",
      " 0   name          649 non-null    object \n",
      " 1   position      649 non-null    object \n",
      " 2   age           649 non-null    int64  \n",
      " 3   market_value  649 non-null    float64\n",
      " 4   country_from  649 non-null    object \n",
      " 5   league_from   649 non-null    object \n",
      " 6   club_from     649 non-null    object \n",
      " 7   country_to    649 non-null    object \n",
      " 8   league_to     649 non-null    object \n",
      " 9   club_to       649 non-null    object \n",
      " 10  fee           649 non-null    float64\n",
      " 11  loan          649 non-null    bool   \n",
      "dtypes: bool(1), float64(2), int64(1), object(8)\n",
      "memory usage: 56.5+ KB\n"
     ]
    }
   ],
   "source": [
    "df.info()"
   ]
  },
  {
   "cell_type": "code",
   "execution_count": 11,
   "id": "9c235222-e166-437d-b05f-ee6b52806769",
   "metadata": {},
   "outputs": [],
   "source": [
    "features_nan=[feature for feature in df.columns if df[feature].isnull().sum()>1 and df[feature].dtypes=='O']\n",
    "\n",
    "for feature in features_nan:\n",
    "    print(\"{}: {}% missing values\".format(feature,np.round(dataset[feature].isnull().mean(),4)))"
   ]
  },
  {
   "cell_type": "code",
   "execution_count": 13,
   "id": "fedb2ec6-8492-478a-845a-24c4b1337388",
   "metadata": {},
   "outputs": [
    {
     "data": {
      "text/html": [
       "<div>\n",
       "<style scoped>\n",
       "    .dataframe tbody tr th:only-of-type {\n",
       "        vertical-align: middle;\n",
       "    }\n",
       "\n",
       "    .dataframe tbody tr th {\n",
       "        vertical-align: top;\n",
       "    }\n",
       "\n",
       "    .dataframe thead th {\n",
       "        text-align: right;\n",
       "    }\n",
       "</style>\n",
       "<table border=\"1\" class=\"dataframe\">\n",
       "  <thead>\n",
       "    <tr style=\"text-align: right;\">\n",
       "      <th></th>\n",
       "      <th>age</th>\n",
       "      <th>market_value</th>\n",
       "      <th>fee</th>\n",
       "    </tr>\n",
       "  </thead>\n",
       "  <tbody>\n",
       "    <tr>\n",
       "      <th>count</th>\n",
       "      <td>649.000000</td>\n",
       "      <td>649.000000</td>\n",
       "      <td>649.000000</td>\n",
       "    </tr>\n",
       "    <tr>\n",
       "      <th>mean</th>\n",
       "      <td>25.328197</td>\n",
       "      <td>10.222920</td>\n",
       "      <td>5.851248</td>\n",
       "    </tr>\n",
       "    <tr>\n",
       "      <th>std</th>\n",
       "      <td>3.864426</td>\n",
       "      <td>12.666204</td>\n",
       "      <td>12.275367</td>\n",
       "    </tr>\n",
       "    <tr>\n",
       "      <th>min</th>\n",
       "      <td>17.000000</td>\n",
       "      <td>0.500000</td>\n",
       "      <td>0.000000</td>\n",
       "    </tr>\n",
       "    <tr>\n",
       "      <th>25%</th>\n",
       "      <td>22.000000</td>\n",
       "      <td>2.800000</td>\n",
       "      <td>0.000000</td>\n",
       "    </tr>\n",
       "    <tr>\n",
       "      <th>50%</th>\n",
       "      <td>25.000000</td>\n",
       "      <td>6.000000</td>\n",
       "      <td>0.500000</td>\n",
       "    </tr>\n",
       "    <tr>\n",
       "      <th>75%</th>\n",
       "      <td>28.000000</td>\n",
       "      <td>13.000000</td>\n",
       "      <td>5.230000</td>\n",
       "    </tr>\n",
       "    <tr>\n",
       "      <th>max</th>\n",
       "      <td>37.000000</td>\n",
       "      <td>150.000000</td>\n",
       "      <td>95.000000</td>\n",
       "    </tr>\n",
       "  </tbody>\n",
       "</table>\n",
       "</div>"
      ],
      "text/plain": [
       "              age  market_value         fee\n",
       "count  649.000000    649.000000  649.000000\n",
       "mean    25.328197     10.222920    5.851248\n",
       "std      3.864426     12.666204   12.275367\n",
       "min     17.000000      0.500000    0.000000\n",
       "25%     22.000000      2.800000    0.000000\n",
       "50%     25.000000      6.000000    0.500000\n",
       "75%     28.000000     13.000000    5.230000\n",
       "max     37.000000    150.000000   95.000000"
      ]
     },
     "execution_count": 13,
     "metadata": {},
     "output_type": "execute_result"
    }
   ],
   "source": [
    "df.describe()"
   ]
  },
  {
   "cell_type": "code",
   "execution_count": 15,
   "id": "90172025-a9a6-4560-9234-4ab162549e4e",
   "metadata": {},
   "outputs": [
    {
     "data": {
      "text/html": [
       "<div>\n",
       "<style scoped>\n",
       "    .dataframe tbody tr th:only-of-type {\n",
       "        vertical-align: middle;\n",
       "    }\n",
       "\n",
       "    .dataframe tbody tr th {\n",
       "        vertical-align: top;\n",
       "    }\n",
       "\n",
       "    .dataframe thead th {\n",
       "        text-align: right;\n",
       "    }\n",
       "</style>\n",
       "<table border=\"1\" class=\"dataframe\">\n",
       "  <thead>\n",
       "    <tr style=\"text-align: right;\">\n",
       "      <th></th>\n",
       "      <th>name</th>\n",
       "      <th>position</th>\n",
       "      <th>age</th>\n",
       "      <th>market_value</th>\n",
       "      <th>country_from</th>\n",
       "      <th>league_from</th>\n",
       "      <th>club_from</th>\n",
       "      <th>country_to</th>\n",
       "      <th>league_to</th>\n",
       "      <th>club_to</th>\n",
       "      <th>fee</th>\n",
       "      <th>loan</th>\n",
       "    </tr>\n",
       "  </thead>\n",
       "  <tbody>\n",
       "    <tr>\n",
       "      <th>0</th>\n",
       "      <td>Erling Haaland</td>\n",
       "      <td>Centre-Forward</td>\n",
       "      <td>21</td>\n",
       "      <td>150.00</td>\n",
       "      <td>Germany</td>\n",
       "      <td>Bundesliga</td>\n",
       "      <td>Borussia Dortmund</td>\n",
       "      <td>England</td>\n",
       "      <td>Premier League</td>\n",
       "      <td>Manchester City</td>\n",
       "      <td>60.00</td>\n",
       "      <td>0</td>\n",
       "    </tr>\n",
       "    <tr>\n",
       "      <th>1</th>\n",
       "      <td>Antony</td>\n",
       "      <td>Right Winger</td>\n",
       "      <td>22</td>\n",
       "      <td>35.00</td>\n",
       "      <td>Netherlands</td>\n",
       "      <td>Eredivisie</td>\n",
       "      <td>Ajax Amsterdam</td>\n",
       "      <td>England</td>\n",
       "      <td>Premier League</td>\n",
       "      <td>Manchester United</td>\n",
       "      <td>95.00</td>\n",
       "      <td>0</td>\n",
       "    </tr>\n",
       "    <tr>\n",
       "      <th>2</th>\n",
       "      <td>Wesley Fofana</td>\n",
       "      <td>Centre-Back</td>\n",
       "      <td>21</td>\n",
       "      <td>40.00</td>\n",
       "      <td>England</td>\n",
       "      <td>Premier League</td>\n",
       "      <td>Leicester City</td>\n",
       "      <td>England</td>\n",
       "      <td>Premier League</td>\n",
       "      <td>Chelsea FC</td>\n",
       "      <td>80.40</td>\n",
       "      <td>0</td>\n",
       "    </tr>\n",
       "    <tr>\n",
       "      <th>3</th>\n",
       "      <td>Darwin Núñez</td>\n",
       "      <td>Centre-Forward</td>\n",
       "      <td>23</td>\n",
       "      <td>55.00</td>\n",
       "      <td>Portugal</td>\n",
       "      <td>Liga Portugal</td>\n",
       "      <td>SL Benfica</td>\n",
       "      <td>England</td>\n",
       "      <td>Premier League</td>\n",
       "      <td>Liverpool FC</td>\n",
       "      <td>75.00</td>\n",
       "      <td>0</td>\n",
       "    </tr>\n",
       "    <tr>\n",
       "      <th>4</th>\n",
       "      <td>Casemiro</td>\n",
       "      <td>Defensive Midfield</td>\n",
       "      <td>30</td>\n",
       "      <td>40.00</td>\n",
       "      <td>Spain</td>\n",
       "      <td>LaLiga</td>\n",
       "      <td>Real Madrid</td>\n",
       "      <td>England</td>\n",
       "      <td>Premier League</td>\n",
       "      <td>Manchester United</td>\n",
       "      <td>70.65</td>\n",
       "      <td>0</td>\n",
       "    </tr>\n",
       "    <tr>\n",
       "      <th>...</th>\n",
       "      <td>...</td>\n",
       "      <td>...</td>\n",
       "      <td>...</td>\n",
       "      <td>...</td>\n",
       "      <td>...</td>\n",
       "      <td>...</td>\n",
       "      <td>...</td>\n",
       "      <td>...</td>\n",
       "      <td>...</td>\n",
       "      <td>...</td>\n",
       "      <td>...</td>\n",
       "      <td>...</td>\n",
       "    </tr>\n",
       "    <tr>\n",
       "      <th>644</th>\n",
       "      <td>Melle Meulensteen</td>\n",
       "      <td>Centre-Back</td>\n",
       "      <td>22</td>\n",
       "      <td>0.80</td>\n",
       "      <td>Netherlands</td>\n",
       "      <td>Eredivisie</td>\n",
       "      <td>RKC Waalwijk</td>\n",
       "      <td>Netherlands</td>\n",
       "      <td>Eredivisie</td>\n",
       "      <td>Vitesse Arnhem</td>\n",
       "      <td>1.00</td>\n",
       "      <td>0</td>\n",
       "    </tr>\n",
       "    <tr>\n",
       "      <th>645</th>\n",
       "      <td>Rodrigo Guth</td>\n",
       "      <td>Centre-Back</td>\n",
       "      <td>21</td>\n",
       "      <td>0.75</td>\n",
       "      <td>Italy</td>\n",
       "      <td>Serie A</td>\n",
       "      <td>Atalanta BC</td>\n",
       "      <td>Netherlands</td>\n",
       "      <td>Eredivisie</td>\n",
       "      <td>Fortuna Sittard</td>\n",
       "      <td>1.00</td>\n",
       "      <td>0</td>\n",
       "    </tr>\n",
       "    <tr>\n",
       "      <th>646</th>\n",
       "      <td>Luuk Brouwers</td>\n",
       "      <td>Defensive Midfield</td>\n",
       "      <td>24</td>\n",
       "      <td>1.00</td>\n",
       "      <td>Netherlands</td>\n",
       "      <td>Eredivisie</td>\n",
       "      <td>Go Ahead Eagles</td>\n",
       "      <td>Netherlands</td>\n",
       "      <td>Eredivisie</td>\n",
       "      <td>FC Utrecht</td>\n",
       "      <td>0.75</td>\n",
       "      <td>0</td>\n",
       "    </tr>\n",
       "    <tr>\n",
       "      <th>647</th>\n",
       "      <td>Lucas Perri</td>\n",
       "      <td>Goalkeeper</td>\n",
       "      <td>24</td>\n",
       "      <td>1.00</td>\n",
       "      <td>Brazil</td>\n",
       "      <td>Série A</td>\n",
       "      <td>São Paulo Futebol Clube</td>\n",
       "      <td>Brazil</td>\n",
       "      <td>Série A</td>\n",
       "      <td>Botafogo de Futebol e Regatas</td>\n",
       "      <td>0.35</td>\n",
       "      <td>0</td>\n",
       "    </tr>\n",
       "    <tr>\n",
       "      <th>648</th>\n",
       "      <td>Rayane Aabid</td>\n",
       "      <td>Central Midfield</td>\n",
       "      <td>30</td>\n",
       "      <td>1.00</td>\n",
       "      <td>Turkey</td>\n",
       "      <td>Süper Lig</td>\n",
       "      <td>Kasimpasa</td>\n",
       "      <td>Turkey</td>\n",
       "      <td>Süper Lig</td>\n",
       "      <td>Hatayspor</td>\n",
       "      <td>0.00</td>\n",
       "      <td>0</td>\n",
       "    </tr>\n",
       "  </tbody>\n",
       "</table>\n",
       "<p>649 rows × 12 columns</p>\n",
       "</div>"
      ],
      "text/plain": [
       "                  name            position  age  market_value country_from  \\\n",
       "0       Erling Haaland      Centre-Forward   21        150.00      Germany   \n",
       "1               Antony        Right Winger   22         35.00  Netherlands   \n",
       "2        Wesley Fofana         Centre-Back   21         40.00      England   \n",
       "3         Darwin Núñez      Centre-Forward   23         55.00     Portugal   \n",
       "4             Casemiro  Defensive Midfield   30         40.00        Spain   \n",
       "..                 ...                 ...  ...           ...          ...   \n",
       "644  Melle Meulensteen         Centre-Back   22          0.80  Netherlands   \n",
       "645       Rodrigo Guth         Centre-Back   21          0.75        Italy   \n",
       "646      Luuk Brouwers  Defensive Midfield   24          1.00  Netherlands   \n",
       "647        Lucas Perri          Goalkeeper   24          1.00       Brazil   \n",
       "648       Rayane Aabid    Central Midfield   30          1.00       Turkey   \n",
       "\n",
       "        league_from                club_from   country_to       league_to  \\\n",
       "0        Bundesliga        Borussia Dortmund      England  Premier League   \n",
       "1        Eredivisie           Ajax Amsterdam      England  Premier League   \n",
       "2    Premier League           Leicester City      England  Premier League   \n",
       "3     Liga Portugal               SL Benfica      England  Premier League   \n",
       "4            LaLiga              Real Madrid      England  Premier League   \n",
       "..              ...                      ...          ...             ...   \n",
       "644      Eredivisie             RKC Waalwijk  Netherlands      Eredivisie   \n",
       "645         Serie A              Atalanta BC  Netherlands      Eredivisie   \n",
       "646      Eredivisie          Go Ahead Eagles  Netherlands      Eredivisie   \n",
       "647         Série A  São Paulo Futebol Clube       Brazil         Série A   \n",
       "648       Süper Lig                Kasimpasa       Turkey       Süper Lig   \n",
       "\n",
       "                           club_to    fee  loan  \n",
       "0                  Manchester City  60.00     0  \n",
       "1                Manchester United  95.00     0  \n",
       "2                       Chelsea FC  80.40     0  \n",
       "3                     Liverpool FC  75.00     0  \n",
       "4                Manchester United  70.65     0  \n",
       "..                             ...    ...   ...  \n",
       "644                 Vitesse Arnhem   1.00     0  \n",
       "645                Fortuna Sittard   1.00     0  \n",
       "646                     FC Utrecht   0.75     0  \n",
       "647  Botafogo de Futebol e Regatas   0.35     0  \n",
       "648                      Hatayspor   0.00     0  \n",
       "\n",
       "[649 rows x 12 columns]"
      ]
     },
     "execution_count": 15,
     "metadata": {},
     "output_type": "execute_result"
    }
   ],
   "source": [
    "df['loan'] = df['loan'].map({False:0, True :1})\n",
    "df"
   ]
  },
  {
   "cell_type": "code",
   "execution_count": 17,
   "id": "fb59d7de-314c-43bd-9907-7b74748da9cd",
   "metadata": {},
   "outputs": [
    {
     "data": {
      "text/plain": [
       "loan\n",
       "0    451\n",
       "1    198\n",
       "Name: count, dtype: int64"
      ]
     },
     "execution_count": 17,
     "metadata": {},
     "output_type": "execute_result"
    }
   ],
   "source": [
    "df['loan'].value_counts()"
   ]
  },
  {
   "cell_type": "code",
   "execution_count": 19,
   "id": "462999c8-764e-4a47-9076-73f90cdb8784",
   "metadata": {},
   "outputs": [
    {
     "data": {
      "text/plain": [
       "name             object\n",
       "position         object\n",
       "age               int64\n",
       "market_value    float64\n",
       "country_from     object\n",
       "league_from      object\n",
       "club_from        object\n",
       "country_to       object\n",
       "league_to        object\n",
       "club_to          object\n",
       "fee             float64\n",
       "loan              int64\n",
       "dtype: object"
      ]
     },
     "execution_count": 19,
     "metadata": {},
     "output_type": "execute_result"
    }
   ],
   "source": [
    "df.dtypes"
   ]
  },
  {
   "cell_type": "code",
   "execution_count": 23,
   "id": "67b43c4d-f3c1-4f82-b064-d1d5ab718636",
   "metadata": {},
   "outputs": [
    {
     "data": {
      "text/plain": [
       "Index(['name', 'position', 'age', 'market_value', 'country_from',\n",
       "       'league_from', 'club_from', 'country_to', 'league_to', 'club_to', 'fee',\n",
       "       'loan'],\n",
       "      dtype='object')"
      ]
     },
     "execution_count": 23,
     "metadata": {},
     "output_type": "execute_result"
    }
   ],
   "source": [
    "df.columns"
   ]
  },
  {
   "cell_type": "code",
   "execution_count": 25,
   "id": "bfea706e-c14e-4555-85db-0dacb3ef9862",
   "metadata": {},
   "outputs": [],
   "source": [
    "df2=df.drop(columns=['name', 'league_from', 'club_from','league_to','club_to','loan'])"
   ]
  },
  {
   "cell_type": "code",
   "execution_count": 27,
   "id": "f0507159-a230-4380-8556-ee079ddd1398",
   "metadata": {},
   "outputs": [
    {
     "data": {
      "text/html": [
       "<div>\n",
       "<style scoped>\n",
       "    .dataframe tbody tr th:only-of-type {\n",
       "        vertical-align: middle;\n",
       "    }\n",
       "\n",
       "    .dataframe tbody tr th {\n",
       "        vertical-align: top;\n",
       "    }\n",
       "\n",
       "    .dataframe thead th {\n",
       "        text-align: right;\n",
       "    }\n",
       "</style>\n",
       "<table border=\"1\" class=\"dataframe\">\n",
       "  <thead>\n",
       "    <tr style=\"text-align: right;\">\n",
       "      <th></th>\n",
       "      <th>position</th>\n",
       "      <th>age</th>\n",
       "      <th>market_value</th>\n",
       "      <th>country_from</th>\n",
       "      <th>country_to</th>\n",
       "      <th>fee</th>\n",
       "    </tr>\n",
       "  </thead>\n",
       "  <tbody>\n",
       "    <tr>\n",
       "      <th>0</th>\n",
       "      <td>Centre-Forward</td>\n",
       "      <td>21</td>\n",
       "      <td>150.00</td>\n",
       "      <td>Germany</td>\n",
       "      <td>England</td>\n",
       "      <td>60.00</td>\n",
       "    </tr>\n",
       "    <tr>\n",
       "      <th>1</th>\n",
       "      <td>Right Winger</td>\n",
       "      <td>22</td>\n",
       "      <td>35.00</td>\n",
       "      <td>Netherlands</td>\n",
       "      <td>England</td>\n",
       "      <td>95.00</td>\n",
       "    </tr>\n",
       "    <tr>\n",
       "      <th>2</th>\n",
       "      <td>Centre-Back</td>\n",
       "      <td>21</td>\n",
       "      <td>40.00</td>\n",
       "      <td>England</td>\n",
       "      <td>England</td>\n",
       "      <td>80.40</td>\n",
       "    </tr>\n",
       "    <tr>\n",
       "      <th>3</th>\n",
       "      <td>Centre-Forward</td>\n",
       "      <td>23</td>\n",
       "      <td>55.00</td>\n",
       "      <td>Portugal</td>\n",
       "      <td>England</td>\n",
       "      <td>75.00</td>\n",
       "    </tr>\n",
       "    <tr>\n",
       "      <th>4</th>\n",
       "      <td>Defensive Midfield</td>\n",
       "      <td>30</td>\n",
       "      <td>40.00</td>\n",
       "      <td>Spain</td>\n",
       "      <td>England</td>\n",
       "      <td>70.65</td>\n",
       "    </tr>\n",
       "    <tr>\n",
       "      <th>...</th>\n",
       "      <td>...</td>\n",
       "      <td>...</td>\n",
       "      <td>...</td>\n",
       "      <td>...</td>\n",
       "      <td>...</td>\n",
       "      <td>...</td>\n",
       "    </tr>\n",
       "    <tr>\n",
       "      <th>644</th>\n",
       "      <td>Centre-Back</td>\n",
       "      <td>22</td>\n",
       "      <td>0.80</td>\n",
       "      <td>Netherlands</td>\n",
       "      <td>Netherlands</td>\n",
       "      <td>1.00</td>\n",
       "    </tr>\n",
       "    <tr>\n",
       "      <th>645</th>\n",
       "      <td>Centre-Back</td>\n",
       "      <td>21</td>\n",
       "      <td>0.75</td>\n",
       "      <td>Italy</td>\n",
       "      <td>Netherlands</td>\n",
       "      <td>1.00</td>\n",
       "    </tr>\n",
       "    <tr>\n",
       "      <th>646</th>\n",
       "      <td>Defensive Midfield</td>\n",
       "      <td>24</td>\n",
       "      <td>1.00</td>\n",
       "      <td>Netherlands</td>\n",
       "      <td>Netherlands</td>\n",
       "      <td>0.75</td>\n",
       "    </tr>\n",
       "    <tr>\n",
       "      <th>647</th>\n",
       "      <td>Goalkeeper</td>\n",
       "      <td>24</td>\n",
       "      <td>1.00</td>\n",
       "      <td>Brazil</td>\n",
       "      <td>Brazil</td>\n",
       "      <td>0.35</td>\n",
       "    </tr>\n",
       "    <tr>\n",
       "      <th>648</th>\n",
       "      <td>Central Midfield</td>\n",
       "      <td>30</td>\n",
       "      <td>1.00</td>\n",
       "      <td>Turkey</td>\n",
       "      <td>Turkey</td>\n",
       "      <td>0.00</td>\n",
       "    </tr>\n",
       "  </tbody>\n",
       "</table>\n",
       "<p>649 rows × 6 columns</p>\n",
       "</div>"
      ],
      "text/plain": [
       "               position  age  market_value country_from   country_to    fee\n",
       "0        Centre-Forward   21        150.00      Germany      England  60.00\n",
       "1          Right Winger   22         35.00  Netherlands      England  95.00\n",
       "2           Centre-Back   21         40.00      England      England  80.40\n",
       "3        Centre-Forward   23         55.00     Portugal      England  75.00\n",
       "4    Defensive Midfield   30         40.00        Spain      England  70.65\n",
       "..                  ...  ...           ...          ...          ...    ...\n",
       "644         Centre-Back   22          0.80  Netherlands  Netherlands   1.00\n",
       "645         Centre-Back   21          0.75        Italy  Netherlands   1.00\n",
       "646  Defensive Midfield   24          1.00  Netherlands  Netherlands   0.75\n",
       "647          Goalkeeper   24          1.00       Brazil       Brazil   0.35\n",
       "648    Central Midfield   30          1.00       Turkey       Turkey   0.00\n",
       "\n",
       "[649 rows x 6 columns]"
      ]
     },
     "execution_count": 27,
     "metadata": {},
     "output_type": "execute_result"
    }
   ],
   "source": [
    "df2"
   ]
  },
  {
   "cell_type": "code",
   "execution_count": 29,
   "id": "a86e8b4e-955c-4f40-9791-606321ed51cf",
   "metadata": {},
   "outputs": [
    {
     "data": {
      "text/plain": [
       "['position', 'country_from', 'country_to']"
      ]
     },
     "execution_count": 29,
     "metadata": {},
     "output_type": "execute_result"
    }
   ],
   "source": [
    "categorical_features=[feature for feature in df2.columns if df2[feature].dtype=='O']\n",
    "categorical_features"
   ]
  },
  {
   "cell_type": "code",
   "execution_count": 35,
   "id": "fef94d35-b0de-41c5-9706-552be68c8745",
   "metadata": {},
   "outputs": [
    {
     "data": {
      "text/plain": [
       "14"
      ]
     },
     "execution_count": 35,
     "metadata": {},
     "output_type": "execute_result"
    }
   ],
   "source": [
    "unique_categories = df2['position'].nunique()\n",
    "unique_categories"
   ]
  },
  {
   "cell_type": "code",
   "execution_count": 37,
   "id": "f6f050a3-436b-4cdc-bac5-3ffa65f94747",
   "metadata": {},
   "outputs": [
    {
     "data": {
      "text/plain": [
       "9"
      ]
     },
     "execution_count": 37,
     "metadata": {},
     "output_type": "execute_result"
    }
   ],
   "source": [
    "unique_categories2 = df2['country_from'].nunique()\n",
    "unique_categories2"
   ]
  },
  {
   "cell_type": "code",
   "execution_count": 39,
   "id": "e9290e7d-0673-4054-b47b-83fecccc0e47",
   "metadata": {},
   "outputs": [
    {
     "data": {
      "text/plain": [
       "9"
      ]
     },
     "execution_count": 39,
     "metadata": {},
     "output_type": "execute_result"
    }
   ],
   "source": [
    "unique_categories3 = df['country_to'].nunique() \n",
    "unique_categories3"
   ]
  },
  {
   "cell_type": "code",
   "execution_count": 43,
   "id": "a84c3673-9fa8-4436-97e5-163083fde35b",
   "metadata": {},
   "outputs": [
    {
     "data": {
      "text/plain": [
       "(649, 32)"
      ]
     },
     "execution_count": 43,
     "metadata": {},
     "output_type": "execute_result"
    }
   ],
   "source": [
    "pd.get_dummies(df2,drop_first=True).shape  # too many columns "
   ]
  },
  {
   "cell_type": "code",
   "execution_count": 45,
   "id": "d598f627-4e1e-4a72-9e77-07e70e2d8f8f",
   "metadata": {},
   "outputs": [
    {
     "data": {
      "text/plain": [
       "position        0\n",
       "age             0\n",
       "market_value    0\n",
       "country_from    0\n",
       "country_to      0\n",
       "fee             0\n",
       "dtype: int64"
      ]
     },
     "execution_count": 45,
     "metadata": {},
     "output_type": "execute_result"
    }
   ],
   "source": [
    "null_counts = df2.isnull().sum()\n",
    "null_counts"
   ]
  },
  {
   "cell_type": "code",
   "execution_count": 57,
   "id": "e4d07a55-c256-4ba4-b92c-f2561810051c",
   "metadata": {},
   "outputs": [],
   "source": [
    "df3=df2"
   ]
  },
  {
   "cell_type": "code",
   "execution_count": null,
   "id": "8c65a253-f2ce-41df-a316-f1dadf21dc66",
   "metadata": {},
   "outputs": [],
   "source": [
    "# df3['position'] = df['position'].map({False:0, True :1})\n",
    "# df"
   ]
  },
  {
   "cell_type": "code",
   "execution_count": 87,
   "id": "d8618756-131b-47d8-980e-f8cc8d6a959a",
   "metadata": {},
   "outputs": [],
   "source": [
    "mapping = {\n",
    "    'Centre-Back': 1,  # Map 'A' to 1\n",
    "    'Centre-Forward': 1,  # Map 'B' to 1\n",
    "    'Central Midfield': 1,  # Map 'C' to 0\n",
    "    'Left-Back': 0,  # Map 'D' to 0\n",
    "    'Defensive Midfield': 1,   # Map 'E' to 0\n",
    "    'Right-Back':0,\n",
    "    'Attacking Midfield':1,\n",
    "    'Right Winger':0,\n",
    "    'Left Winger':0,\n",
    "    'Goalkeeper':0,\n",
    "    'Second Striker':1,\n",
    "    'Right Midfield':0,\n",
    "    'Left Midfield':0,\n",
    "    'defence':0\n",
    "\n",
    "}"
   ]
  },
  {
   "cell_type": "code",
   "execution_count": 89,
   "id": "54cab27f-e82e-4994-a457-b474a37c5ffa",
   "metadata": {},
   "outputs": [],
   "source": [
    "pd.set_option('future.no_silent_downcasting', True)"
   ]
  },
  {
   "cell_type": "code",
   "execution_count": 91,
   "id": "5acb267e-428c-4932-bedc-3cfaf05d0aee",
   "metadata": {},
   "outputs": [],
   "source": [
    "df3['positions_new'] = df3['position'].replace(mapping).infer_objects(copy=False)"
   ]
  },
  {
   "cell_type": "code",
   "execution_count": 93,
   "id": "2b34e164-83ad-4549-b8e6-62e9fd43b329",
   "metadata": {},
   "outputs": [
    {
     "data": {
      "text/plain": [
       "positions_new\n",
       "1    417\n",
       "0    232\n",
       "Name: count, dtype: int64"
      ]
     },
     "execution_count": 93,
     "metadata": {},
     "output_type": "execute_result"
    }
   ],
   "source": [
    "df3['positions_new'].value_counts()"
   ]
  },
  {
   "cell_type": "code",
   "execution_count": 121,
   "id": "9029b951-1cf7-4250-b813-a49703850040",
   "metadata": {},
   "outputs": [
    {
     "data": {
      "text/html": [
       "<div>\n",
       "<style scoped>\n",
       "    .dataframe tbody tr th:only-of-type {\n",
       "        vertical-align: middle;\n",
       "    }\n",
       "\n",
       "    .dataframe tbody tr th {\n",
       "        vertical-align: top;\n",
       "    }\n",
       "\n",
       "    .dataframe thead th {\n",
       "        text-align: right;\n",
       "    }\n",
       "</style>\n",
       "<table border=\"1\" class=\"dataframe\">\n",
       "  <thead>\n",
       "    <tr style=\"text-align: right;\">\n",
       "      <th></th>\n",
       "      <th>position</th>\n",
       "      <th>age</th>\n",
       "      <th>market_value</th>\n",
       "      <th>country_from</th>\n",
       "      <th>country_to</th>\n",
       "      <th>fee</th>\n",
       "      <th>positions_new</th>\n",
       "      <th>country_from_new</th>\n",
       "      <th>country_to_new</th>\n",
       "    </tr>\n",
       "  </thead>\n",
       "  <tbody>\n",
       "    <tr>\n",
       "      <th>0</th>\n",
       "      <td>Centre-Forward</td>\n",
       "      <td>21</td>\n",
       "      <td>150.0</td>\n",
       "      <td>Germany</td>\n",
       "      <td>England</td>\n",
       "      <td>60.0</td>\n",
       "      <td>1</td>\n",
       "      <td>1</td>\n",
       "      <td>1</td>\n",
       "    </tr>\n",
       "  </tbody>\n",
       "</table>\n",
       "</div>"
      ],
      "text/plain": [
       "         position  age  market_value country_from country_to   fee  \\\n",
       "0  Centre-Forward   21         150.0      Germany    England  60.0   \n",
       "\n",
       "   positions_new  country_from_new  country_to_new  \n",
       "0              1                 1               1  "
      ]
     },
     "execution_count": 121,
     "metadata": {},
     "output_type": "execute_result"
    }
   ],
   "source": [
    "df3.head(1)"
   ]
  },
  {
   "cell_type": "code",
   "execution_count": 111,
   "id": "e3d92826-0ea8-4a20-a4cf-cb4c91883b02",
   "metadata": {},
   "outputs": [],
   "source": [
    "mapping1 = {\n",
    "    'Italy': 1,  # Map 'A' to 1\n",
    "    'England': 1,  # Map 'B' to 1\n",
    "    'France': 0,  # Map 'C' to 0\n",
    "    'Germany': 1,  # Map 'D' to 0\n",
    "    'Spain': 1,   # Map 'E' to 0\n",
    "    'Portugal':0,\n",
    "    'Netherlands':0,\n",
    "    'Portugal':0,\n",
    "    'Brazil':0,\n",
    "    'Turkey':0\n",
    "}"
   ]
  },
  {
   "cell_type": "code",
   "execution_count": 113,
   "id": "cee3a6dc-b19a-4aba-98f8-054583ceda48",
   "metadata": {},
   "outputs": [],
   "source": [
    "df3['country_from_new'] = df3['country_from'].replace(mapping1).infer_objects(copy=False)"
   ]
  },
  {
   "cell_type": "code",
   "execution_count": 115,
   "id": "70e1573a-0672-4109-9860-4c9171412c55",
   "metadata": {},
   "outputs": [
    {
     "data": {
      "text/plain": [
       "country_from_new\n",
       "1    408\n",
       "0    241\n",
       "Name: count, dtype: int64"
      ]
     },
     "execution_count": 115,
     "metadata": {},
     "output_type": "execute_result"
    }
   ],
   "source": [
    "df3['country_from_new'].value_counts()"
   ]
  },
  {
   "cell_type": "code",
   "execution_count": 117,
   "id": "2ba07909-636e-401d-ad58-ec79d405ca75",
   "metadata": {},
   "outputs": [],
   "source": [
    "df3['country_to_new'] = df3['country_to'].replace(mapping1).infer_objects(copy=False)"
   ]
  },
  {
   "cell_type": "code",
   "execution_count": 119,
   "id": "f9491657-61b0-4823-a277-6d04b5868267",
   "metadata": {},
   "outputs": [
    {
     "data": {
      "text/plain": [
       "country_to_new\n",
       "1    399\n",
       "0    250\n",
       "Name: count, dtype: int64"
      ]
     },
     "execution_count": 119,
     "metadata": {},
     "output_type": "execute_result"
    }
   ],
   "source": [
    "df3['country_to_new'].value_counts()"
   ]
  },
  {
   "cell_type": "code",
   "execution_count": 123,
   "id": "1b039664-38f7-4900-b291-f2a7af529a9e",
   "metadata": {},
   "outputs": [
    {
     "data": {
      "text/plain": [
       "['Centre-Back',\n",
       " 'Centre-Forward',\n",
       " 'Central Midfield',\n",
       " 'Left-Back',\n",
       " 'Defensive Midfield',\n",
       " 'Right-Back',\n",
       " 'Attacking Midfield',\n",
       " 'Right Winger',\n",
       " 'Left Winger',\n",
       " 'Goalkeeper',\n",
       " 'Second Striker',\n",
       " 'Right Midfield',\n",
       " 'Left Midfield',\n",
       " 'defence']"
      ]
     },
     "execution_count": 123,
     "metadata": {},
     "output_type": "execute_result"
    }
   ],
   "source": [
    "top_10_labels_position = [y for y in df3.position.value_counts().sort_values(ascending=False).index]\n",
    "top_10_labels_position"
   ]
  },
  {
   "cell_type": "code",
   "execution_count": 125,
   "id": "52e33528-ff1b-4e19-ab1a-9289b3fdd96a",
   "metadata": {},
   "outputs": [
    {
     "data": {
      "text/plain": [
       "['Italy',\n",
       " 'England',\n",
       " 'France',\n",
       " 'Germany',\n",
       " 'Spain',\n",
       " 'Portugal',\n",
       " 'Netherlands',\n",
       " 'Turkey',\n",
       " 'Brazil']"
      ]
     },
     "execution_count": 125,
     "metadata": {},
     "output_type": "execute_result"
    }
   ],
   "source": [
    "top_10_labels_country_from = [y for y in df3.country_from.value_counts().sort_values(ascending=False).index]\n",
    "top_10_labels_country_from"
   ]
  },
  {
   "cell_type": "code",
   "execution_count": 127,
   "id": "d306b4d2-1b21-420a-ba50-f09b6aea7de3",
   "metadata": {},
   "outputs": [
    {
     "data": {
      "text/plain": [
       "['Italy',\n",
       " 'England',\n",
       " 'Spain',\n",
       " 'France',\n",
       " 'Germany',\n",
       " 'Turkey',\n",
       " 'Netherlands',\n",
       " 'Portugal',\n",
       " 'Brazil']"
      ]
     },
     "execution_count": 127,
     "metadata": {},
     "output_type": "execute_result"
    }
   ],
   "source": [
    "top_10_labels_country_to = [y for y in df3.country_to.value_counts().sort_values(ascending=False).index]\n",
    "top_10_labels_country_to"
   ]
  },
  {
   "cell_type": "code",
   "execution_count": 129,
   "id": "06c5b08f-cb76-49c5-aede-1470f9d512a1",
   "metadata": {},
   "outputs": [],
   "source": [
    "# def one_hot_encoding_top_x(df, variable, top_x_labels):\n",
    "#     # function to create the dummy variables for the most frequent labels\n",
    "#     # we can vary the number of most frequent labels that we encode\n",
    "    \n",
    "#     for label in top_x_labels:\n",
    "#         df[variable+'_'+label] = np.where(df[variable]==label, 1, 0)"
   ]
  },
  {
   "cell_type": "code",
   "execution_count": 131,
   "id": "3c5005a5-bf98-4b35-8643-2a1118270a8e",
   "metadata": {},
   "outputs": [],
   "source": [
    "# one_hot_encoding_top_x(df, 'position', top_10_labels_position)\n",
    "# df.head()"
   ]
  },
  {
   "cell_type": "code",
   "execution_count": 133,
   "id": "bc03d5f6-153a-472e-b7ce-4dde9768333a",
   "metadata": {},
   "outputs": [
    {
     "data": {
      "text/html": [
       "<div>\n",
       "<style scoped>\n",
       "    .dataframe tbody tr th:only-of-type {\n",
       "        vertical-align: middle;\n",
       "    }\n",
       "\n",
       "    .dataframe tbody tr th {\n",
       "        vertical-align: top;\n",
       "    }\n",
       "\n",
       "    .dataframe thead th {\n",
       "        text-align: right;\n",
       "    }\n",
       "</style>\n",
       "<table border=\"1\" class=\"dataframe\">\n",
       "  <thead>\n",
       "    <tr style=\"text-align: right;\">\n",
       "      <th></th>\n",
       "      <th>position</th>\n",
       "      <th>age</th>\n",
       "      <th>market_value</th>\n",
       "      <th>country_from</th>\n",
       "      <th>country_to</th>\n",
       "      <th>fee</th>\n",
       "      <th>positions_new</th>\n",
       "      <th>country_from_new</th>\n",
       "      <th>country_to_new</th>\n",
       "    </tr>\n",
       "  </thead>\n",
       "  <tbody>\n",
       "    <tr>\n",
       "      <th>0</th>\n",
       "      <td>Centre-Forward</td>\n",
       "      <td>21</td>\n",
       "      <td>150.00</td>\n",
       "      <td>Germany</td>\n",
       "      <td>England</td>\n",
       "      <td>60.00</td>\n",
       "      <td>1</td>\n",
       "      <td>1</td>\n",
       "      <td>1</td>\n",
       "    </tr>\n",
       "    <tr>\n",
       "      <th>1</th>\n",
       "      <td>Right Winger</td>\n",
       "      <td>22</td>\n",
       "      <td>35.00</td>\n",
       "      <td>Netherlands</td>\n",
       "      <td>England</td>\n",
       "      <td>95.00</td>\n",
       "      <td>0</td>\n",
       "      <td>0</td>\n",
       "      <td>1</td>\n",
       "    </tr>\n",
       "    <tr>\n",
       "      <th>2</th>\n",
       "      <td>Centre-Back</td>\n",
       "      <td>21</td>\n",
       "      <td>40.00</td>\n",
       "      <td>England</td>\n",
       "      <td>England</td>\n",
       "      <td>80.40</td>\n",
       "      <td>1</td>\n",
       "      <td>1</td>\n",
       "      <td>1</td>\n",
       "    </tr>\n",
       "    <tr>\n",
       "      <th>3</th>\n",
       "      <td>Centre-Forward</td>\n",
       "      <td>23</td>\n",
       "      <td>55.00</td>\n",
       "      <td>Portugal</td>\n",
       "      <td>England</td>\n",
       "      <td>75.00</td>\n",
       "      <td>1</td>\n",
       "      <td>0</td>\n",
       "      <td>1</td>\n",
       "    </tr>\n",
       "    <tr>\n",
       "      <th>4</th>\n",
       "      <td>Defensive Midfield</td>\n",
       "      <td>30</td>\n",
       "      <td>40.00</td>\n",
       "      <td>Spain</td>\n",
       "      <td>England</td>\n",
       "      <td>70.65</td>\n",
       "      <td>1</td>\n",
       "      <td>1</td>\n",
       "      <td>1</td>\n",
       "    </tr>\n",
       "    <tr>\n",
       "      <th>...</th>\n",
       "      <td>...</td>\n",
       "      <td>...</td>\n",
       "      <td>...</td>\n",
       "      <td>...</td>\n",
       "      <td>...</td>\n",
       "      <td>...</td>\n",
       "      <td>...</td>\n",
       "      <td>...</td>\n",
       "      <td>...</td>\n",
       "    </tr>\n",
       "    <tr>\n",
       "      <th>644</th>\n",
       "      <td>Centre-Back</td>\n",
       "      <td>22</td>\n",
       "      <td>0.80</td>\n",
       "      <td>Netherlands</td>\n",
       "      <td>Netherlands</td>\n",
       "      <td>1.00</td>\n",
       "      <td>1</td>\n",
       "      <td>0</td>\n",
       "      <td>0</td>\n",
       "    </tr>\n",
       "    <tr>\n",
       "      <th>645</th>\n",
       "      <td>Centre-Back</td>\n",
       "      <td>21</td>\n",
       "      <td>0.75</td>\n",
       "      <td>Italy</td>\n",
       "      <td>Netherlands</td>\n",
       "      <td>1.00</td>\n",
       "      <td>1</td>\n",
       "      <td>1</td>\n",
       "      <td>0</td>\n",
       "    </tr>\n",
       "    <tr>\n",
       "      <th>646</th>\n",
       "      <td>Defensive Midfield</td>\n",
       "      <td>24</td>\n",
       "      <td>1.00</td>\n",
       "      <td>Netherlands</td>\n",
       "      <td>Netherlands</td>\n",
       "      <td>0.75</td>\n",
       "      <td>1</td>\n",
       "      <td>0</td>\n",
       "      <td>0</td>\n",
       "    </tr>\n",
       "    <tr>\n",
       "      <th>647</th>\n",
       "      <td>Goalkeeper</td>\n",
       "      <td>24</td>\n",
       "      <td>1.00</td>\n",
       "      <td>Brazil</td>\n",
       "      <td>Brazil</td>\n",
       "      <td>0.35</td>\n",
       "      <td>0</td>\n",
       "      <td>0</td>\n",
       "      <td>0</td>\n",
       "    </tr>\n",
       "    <tr>\n",
       "      <th>648</th>\n",
       "      <td>Central Midfield</td>\n",
       "      <td>30</td>\n",
       "      <td>1.00</td>\n",
       "      <td>Turkey</td>\n",
       "      <td>Turkey</td>\n",
       "      <td>0.00</td>\n",
       "      <td>1</td>\n",
       "      <td>0</td>\n",
       "      <td>0</td>\n",
       "    </tr>\n",
       "  </tbody>\n",
       "</table>\n",
       "<p>649 rows × 9 columns</p>\n",
       "</div>"
      ],
      "text/plain": [
       "               position  age  market_value country_from   country_to    fee  \\\n",
       "0        Centre-Forward   21        150.00      Germany      England  60.00   \n",
       "1          Right Winger   22         35.00  Netherlands      England  95.00   \n",
       "2           Centre-Back   21         40.00      England      England  80.40   \n",
       "3        Centre-Forward   23         55.00     Portugal      England  75.00   \n",
       "4    Defensive Midfield   30         40.00        Spain      England  70.65   \n",
       "..                  ...  ...           ...          ...          ...    ...   \n",
       "644         Centre-Back   22          0.80  Netherlands  Netherlands   1.00   \n",
       "645         Centre-Back   21          0.75        Italy  Netherlands   1.00   \n",
       "646  Defensive Midfield   24          1.00  Netherlands  Netherlands   0.75   \n",
       "647          Goalkeeper   24          1.00       Brazil       Brazil   0.35   \n",
       "648    Central Midfield   30          1.00       Turkey       Turkey   0.00   \n",
       "\n",
       "     positions_new  country_from_new  country_to_new  \n",
       "0                1                 1               1  \n",
       "1                0                 0               1  \n",
       "2                1                 1               1  \n",
       "3                1                 0               1  \n",
       "4                1                 1               1  \n",
       "..             ...               ...             ...  \n",
       "644              1                 0               0  \n",
       "645              1                 1               0  \n",
       "646              1                 0               0  \n",
       "647              0                 0               0  \n",
       "648              1                 0               0  \n",
       "\n",
       "[649 rows x 9 columns]"
      ]
     },
     "execution_count": 133,
     "metadata": {},
     "output_type": "execute_result"
    }
   ],
   "source": [
    "df3"
   ]
  },
  {
   "cell_type": "code",
   "execution_count": 137,
   "id": "fa7f0020-ac4c-4968-82f6-163862d949a2",
   "metadata": {},
   "outputs": [],
   "source": [
    "df4=df3.drop(columns=['position', 'country_from', 'country_to'])"
   ]
  },
  {
   "cell_type": "code",
   "execution_count": 141,
   "id": "be52fa66-787b-46a1-8cff-12417d53500a",
   "metadata": {},
   "outputs": [
    {
     "data": {
      "text/html": [
       "<div>\n",
       "<style scoped>\n",
       "    .dataframe tbody tr th:only-of-type {\n",
       "        vertical-align: middle;\n",
       "    }\n",
       "\n",
       "    .dataframe tbody tr th {\n",
       "        vertical-align: top;\n",
       "    }\n",
       "\n",
       "    .dataframe thead th {\n",
       "        text-align: right;\n",
       "    }\n",
       "</style>\n",
       "<table border=\"1\" class=\"dataframe\">\n",
       "  <thead>\n",
       "    <tr style=\"text-align: right;\">\n",
       "      <th></th>\n",
       "      <th>age</th>\n",
       "      <th>market_value</th>\n",
       "      <th>fee</th>\n",
       "      <th>positions_new</th>\n",
       "      <th>country_from_new</th>\n",
       "      <th>country_to_new</th>\n",
       "    </tr>\n",
       "  </thead>\n",
       "  <tbody>\n",
       "    <tr>\n",
       "      <th>0</th>\n",
       "      <td>21</td>\n",
       "      <td>150.00</td>\n",
       "      <td>60.00</td>\n",
       "      <td>1</td>\n",
       "      <td>1</td>\n",
       "      <td>1</td>\n",
       "    </tr>\n",
       "    <tr>\n",
       "      <th>1</th>\n",
       "      <td>22</td>\n",
       "      <td>35.00</td>\n",
       "      <td>95.00</td>\n",
       "      <td>0</td>\n",
       "      <td>0</td>\n",
       "      <td>1</td>\n",
       "    </tr>\n",
       "    <tr>\n",
       "      <th>2</th>\n",
       "      <td>21</td>\n",
       "      <td>40.00</td>\n",
       "      <td>80.40</td>\n",
       "      <td>1</td>\n",
       "      <td>1</td>\n",
       "      <td>1</td>\n",
       "    </tr>\n",
       "    <tr>\n",
       "      <th>3</th>\n",
       "      <td>23</td>\n",
       "      <td>55.00</td>\n",
       "      <td>75.00</td>\n",
       "      <td>1</td>\n",
       "      <td>0</td>\n",
       "      <td>1</td>\n",
       "    </tr>\n",
       "    <tr>\n",
       "      <th>4</th>\n",
       "      <td>30</td>\n",
       "      <td>40.00</td>\n",
       "      <td>70.65</td>\n",
       "      <td>1</td>\n",
       "      <td>1</td>\n",
       "      <td>1</td>\n",
       "    </tr>\n",
       "    <tr>\n",
       "      <th>...</th>\n",
       "      <td>...</td>\n",
       "      <td>...</td>\n",
       "      <td>...</td>\n",
       "      <td>...</td>\n",
       "      <td>...</td>\n",
       "      <td>...</td>\n",
       "    </tr>\n",
       "    <tr>\n",
       "      <th>644</th>\n",
       "      <td>22</td>\n",
       "      <td>0.80</td>\n",
       "      <td>1.00</td>\n",
       "      <td>1</td>\n",
       "      <td>0</td>\n",
       "      <td>0</td>\n",
       "    </tr>\n",
       "    <tr>\n",
       "      <th>645</th>\n",
       "      <td>21</td>\n",
       "      <td>0.75</td>\n",
       "      <td>1.00</td>\n",
       "      <td>1</td>\n",
       "      <td>1</td>\n",
       "      <td>0</td>\n",
       "    </tr>\n",
       "    <tr>\n",
       "      <th>646</th>\n",
       "      <td>24</td>\n",
       "      <td>1.00</td>\n",
       "      <td>0.75</td>\n",
       "      <td>1</td>\n",
       "      <td>0</td>\n",
       "      <td>0</td>\n",
       "    </tr>\n",
       "    <tr>\n",
       "      <th>647</th>\n",
       "      <td>24</td>\n",
       "      <td>1.00</td>\n",
       "      <td>0.35</td>\n",
       "      <td>0</td>\n",
       "      <td>0</td>\n",
       "      <td>0</td>\n",
       "    </tr>\n",
       "    <tr>\n",
       "      <th>648</th>\n",
       "      <td>30</td>\n",
       "      <td>1.00</td>\n",
       "      <td>0.00</td>\n",
       "      <td>1</td>\n",
       "      <td>0</td>\n",
       "      <td>0</td>\n",
       "    </tr>\n",
       "  </tbody>\n",
       "</table>\n",
       "<p>649 rows × 6 columns</p>\n",
       "</div>"
      ],
      "text/plain": [
       "     age  market_value    fee  positions_new  country_from_new  country_to_new\n",
       "0     21        150.00  60.00              1                 1               1\n",
       "1     22         35.00  95.00              0                 0               1\n",
       "2     21         40.00  80.40              1                 1               1\n",
       "3     23         55.00  75.00              1                 0               1\n",
       "4     30         40.00  70.65              1                 1               1\n",
       "..   ...           ...    ...            ...               ...             ...\n",
       "644   22          0.80   1.00              1                 0               0\n",
       "645   21          0.75   1.00              1                 1               0\n",
       "646   24          1.00   0.75              1                 0               0\n",
       "647   24          1.00   0.35              0                 0               0\n",
       "648   30          1.00   0.00              1                 0               0\n",
       "\n",
       "[649 rows x 6 columns]"
      ]
     },
     "execution_count": 141,
     "metadata": {},
     "output_type": "execute_result"
    }
   ],
   "source": [
    "df4"
   ]
  },
  {
   "cell_type": "code",
   "execution_count": 147,
   "id": "6c5bc423-0f6b-4040-b17d-073987c08aa7",
   "metadata": {},
   "outputs": [
    {
     "data": {
      "text/plain": [
       "<bound method NDFrame.describe of      age  market_value    fee  positions_new  country_from_new  country_to_new\n",
       "0     21        150.00  60.00              1                 1               1\n",
       "1     22         35.00  95.00              0                 0               1\n",
       "2     21         40.00  80.40              1                 1               1\n",
       "3     23         55.00  75.00              1                 0               1\n",
       "4     30         40.00  70.65              1                 1               1\n",
       "..   ...           ...    ...            ...               ...             ...\n",
       "644   22          0.80   1.00              1                 0               0\n",
       "645   21          0.75   1.00              1                 1               0\n",
       "646   24          1.00   0.75              1                 0               0\n",
       "647   24          1.00   0.35              0                 0               0\n",
       "648   30          1.00   0.00              1                 0               0\n",
       "\n",
       "[649 rows x 6 columns]>"
      ]
     },
     "execution_count": 147,
     "metadata": {},
     "output_type": "execute_result"
    }
   ],
   "source": [
    "df4.describe"
   ]
  },
  {
   "cell_type": "code",
   "execution_count": 149,
   "id": "c8ad3519-504c-4138-839b-c29e34a10f65",
   "metadata": {},
   "outputs": [
    {
     "data": {
      "text/plain": [
       "(649, 6)"
      ]
     },
     "execution_count": 149,
     "metadata": {},
     "output_type": "execute_result"
    }
   ],
   "source": [
    "df4.shape"
   ]
  },
  {
   "cell_type": "code",
   "execution_count": 165,
   "id": "587ce015-8d9f-40bc-ae38-a57807fe51bc",
   "metadata": {},
   "outputs": [
    {
     "data": {
      "image/png": "[encoded data removed]",
      "text/plain": [
       "<Figure size 1000x600 with 1 Axes>"
      ]
     },
     "metadata": {},
     "output_type": "display_data"
    }
   ],
   "source": [
    "plt.figure(figsize=(10, 6))\n",
    "sns.histplot(df4['age'], kde=True)\n",
    "plt.title('Distribution of Age')\n",
    "plt.show()"
   ]
  },
  {
   "cell_type": "code",
   "execution_count": 187,
   "id": "1f2340e6-1a38-4431-8bfd-d2045dd77f3f",
   "metadata": {},
   "outputs": [
    {
     "data": {
      "image/png": "[encoded data removed]",
      "text/plain": [
       "<Figure size 1000x600 with 1 Axes>"
      ]
     },
     "metadata": {},
     "output_type": "display_data"
    }
   ],
   "source": [
    "plt.figure(figsize=(10, 6))\n",
    "sns.histplot(df4['fee'], kde=True)\n",
    "plt.title('Distribution of fee')\n",
    "plt.show()"
   ]
  },
  {
   "cell_type": "code",
   "execution_count": 167,
   "id": "faada575-4c6c-437f-8bcc-ea9d4dcd2001",
   "metadata": {},
   "outputs": [
    {
     "data": {
      "image/png": "[encoded data removed]",
      "text/plain": [
       "<Figure size 1000x600 with 1 Axes>"
      ]
     },
     "metadata": {},
     "output_type": "display_data"
    }
   ],
   "source": [
    "plt.figure(figsize=(10, 6))\n",
    "sns.scatterplot(x='age', y='market_value', data=df4)\n",
    "plt.title('Market Value vs. Age')\n",
    "plt.show()"
   ]
  },
  {
   "cell_type": "code",
   "execution_count": 169,
   "id": "17d79a11-378b-4e3b-98a2-8b5691c75fd2",
   "metadata": {},
   "outputs": [
    {
     "data": {
      "image/png": "[encoded data removed]",
      "text/plain": [
       "<Figure size 1000x600 with 1 Axes>"
      ]
     },
     "metadata": {},
     "output_type": "display_data"
    }
   ],
   "source": [
    "plt.figure(figsize=(10, 6))\n",
    "sns.scatterplot(x='age', y='fee', data=df4)\n",
    "plt.title('Fee vs. Age')\n",
    "plt.show()"
   ]
  },
  {
   "cell_type": "code",
   "execution_count": 171,
   "id": "511c4022-a650-4900-9ccf-020d67f75833",
   "metadata": {},
   "outputs": [
    {
     "data": {
      "image/png": "[encoded data removed]",
      "text/plain": [
       "<Figure size 1000x600 with 1 Axes>"
      ]
     },
     "metadata": {},
     "output_type": "display_data"
    }
   ],
   "source": [
    "plt.figure(figsize=(10, 6))\n",
    "sns.scatterplot(x='market_value', y='fee', data=df4)\n",
    "plt.title('market_value vs. Fee')\n",
    "plt.show()"
   ]
  },
  {
   "cell_type": "code",
   "execution_count": 175,
   "id": "618f3c3d-e39a-45fc-b6f4-38aab991ba9e",
   "metadata": {},
   "outputs": [
    {
     "data": {
      "image/png": "[encoded data removed]",
      "text/plain": [
       "<Figure size 1000x600 with 1 Axes>"
      ]
     },
     "metadata": {},
     "output_type": "display_data"
    }
   ],
   "source": [
    "plt.figure(figsize=(10, 6))\n",
    "sns.scatterplot(x='market_value', y='positions_new', data=df4)\n",
    "plt.title('market_value vs. positions_new')\n",
    "plt.show()"
   ]
  },
  {
   "cell_type": "code",
   "execution_count": 179,
   "id": "9036638a-c3af-40c3-b257-3c96b5bc01fe",
   "metadata": {},
   "outputs": [
    {
     "data": {
      "image/png": "[encoded data removed]",
      "text/plain": [
       "<Figure size 1000x600 with 1 Axes>"
      ]
     },
     "metadata": {},
     "output_type": "display_data"
    }
   ],
   "source": [
    "plt.figure(figsize=(10, 6))\n",
    "sns.scatterplot(x='market_value', y='country_from_new', data=df4)\n",
    "plt.title('market_value vs. country_from_new')\n",
    "plt.show()"
   ]
  },
  {
   "cell_type": "code",
   "execution_count": 181,
   "id": "d2987c1a-aa45-4c29-aab7-3eb74396486a",
   "metadata": {},
   "outputs": [
    {
     "data": {
      "image/png": "[encoded data removed]",
      "text/plain": [
       "<Figure size 1000x600 with 1 Axes>"
      ]
     },
     "metadata": {},
     "output_type": "display_data"
    }
   ],
   "source": [
    "plt.figure(figsize=(10, 6))\n",
    "sns.scatterplot(x='market_value', y='country_to_new', data=df4)\n",
    "plt.title('market_value vs. country_to_new')\n",
    "plt.show()"
   ]
  },
  {
   "cell_type": "code",
   "execution_count": 161,
   "id": "c20f7df2-fa79-4e28-9f4b-67cc54832c84",
   "metadata": {},
   "outputs": [
    {
     "data": {
      "image/png": "[encoded data removed]",
      "text/plain": [
       "<Figure size 1200x1000 with 2 Axes>"
      ]
     },
     "metadata": {},
     "output_type": "display_data"
    }
   ],
   "source": [
    "corr_matrix = df4.corr()\n",
    "\n",
    "# Display the correlation matrix\n",
    "plt.figure(figsize=(12, 10))\n",
    "sns.heatmap(corr_matrix, annot=True, cmap='coolwarm')\n",
    "plt.title('Correlation Matrix')\n",
    "plt.show()"
   ]
  },
  {
   "cell_type": "code",
   "execution_count": 215,
   "id": "0645a105-271e-4734-b50f-458dbe1894c1",
   "metadata": {},
   "outputs": [],
   "source": [
    "df5.to_csv('my_dataframe8.csv', index=False)"
   ]
  },
  {
   "cell_type": "code",
   "execution_count": 189,
   "id": "c192ff9f-ab31-415c-babb-1d9823be49ee",
   "metadata": {},
   "outputs": [],
   "source": [
    "df5=df4"
   ]
  },
  {
   "cell_type": "code",
   "execution_count": 195,
   "id": "043b8b03-8f37-4f5c-91b3-56eeea8521f0",
   "metadata": {},
   "outputs": [
    {
     "name": "stdout",
     "output_type": "stream",
     "text": [
      "Outliers using IQR:\n",
      "     age  market_value    fee  positions_new  country_from_new  country_to_new\n",
      "0     21         150.0  60.00              1                 1               1\n",
      "1     22          35.0  95.00              0                 0               1\n",
      "2     21          40.0  80.40              1                 1               1\n",
      "3     23          55.0  75.00              1                 0               1\n",
      "4     30          40.0  70.65              1                 1               1\n",
      "..   ...           ...    ...            ...               ...             ...\n",
      "153   22          15.0  22.60              1                 0               1\n",
      "154   22          15.0  15.00              0                 1               1\n",
      "155   26          15.0  13.50              0                 0               0\n",
      "168   28          14.0  15.40              0                 1               1\n",
      "169   24          12.0  14.00              1                 0               0\n",
      "\n",
      "[85 rows x 6 columns]\n"
     ]
    }
   ],
   "source": [
    "Q1 = df5['fee'].quantile(0.25)\n",
    "Q3 = df5['fee'].quantile(0.75)\n",
    "IQR = Q3 - Q1\n",
    "\n",
    "outliers_iqr = df5[(df5['fee'] < (Q1 - 1.5 * IQR)) | (df5['fee'] > (Q3 + 1.5 * IQR))]\n",
    "print(\"Outliers using IQR:\")\n",
    "print(outliers_iqr)"
   ]
  },
  {
   "cell_type": "code",
   "execution_count": 197,
   "id": "a51de9cf-feed-446a-b608-254e599ddfdd",
   "metadata": {},
   "outputs": [
    {
     "name": "stdout",
     "output_type": "stream",
     "text": [
      "Outliers using IQR:\n",
      "Empty DataFrame\n",
      "Columns: [age, market_value, fee, positions_new, country_from_new, country_to_new]\n",
      "Index: []\n"
     ]
    }
   ],
   "source": [
    "Q1 = df5['age'].quantile(0.25)\n",
    "Q3 = df5['age'].quantile(0.75)\n",
    "IQR = Q3 - Q1\n",
    "\n",
    "outliers_iqr = df5[(df5['age'] < (Q1 - 1.5 * IQR)) | (df5['age'] > (Q3 + 1.5 * IQR))]\n",
    "print(\"Outliers using IQR:\")\n",
    "print(outliers_iqr)"
   ]
  },
  {
   "cell_type": "code",
   "execution_count": 211,
   "id": "afcf7b0d-5a07-45af-891d-e616fabdccd5",
   "metadata": {},
   "outputs": [
    {
     "data": {
      "text/plain": [
       "0.5"
      ]
     },
     "execution_count": 211,
     "metadata": {},
     "output_type": "execute_result"
    }
   ],
   "source": [
    "median_value = df5['fee'].median()\n",
    "median_value"
   ]
  },
  {
   "cell_type": "code",
   "execution_count": 205,
   "id": "73e8bed1-25c3-414d-854f-1e86316a4a11",
   "metadata": {},
   "outputs": [],
   "source": [
    "df5['fee_iqr_replaced'] = df5['fee']\n"
   ]
  },
  {
   "cell_type": "code",
   "execution_count": 207,
   "id": "d49abeb9-6dd2-46b9-a476-9e0024e82b00",
   "metadata": {},
   "outputs": [],
   "source": [
    "df5.loc[(df5['fee'] < (Q1 - 1.5 * IQR)) | (df5['fee'] > (Q3 + 1.5 * IQR)), 'fee_iqr_replaced'] = median_value"
   ]
  },
  {
   "cell_type": "code",
   "execution_count": 209,
   "id": "9d625913-8ee6-4f6b-84aa-0a4f85a66a76",
   "metadata": {},
   "outputs": [
    {
     "data": {
      "text/html": [
       "<div>\n",
       "<style scoped>\n",
       "    .dataframe tbody tr th:only-of-type {\n",
       "        vertical-align: middle;\n",
       "    }\n",
       "\n",
       "    .dataframe tbody tr th {\n",
       "        vertical-align: top;\n",
       "    }\n",
       "\n",
       "    .dataframe thead th {\n",
       "        text-align: right;\n",
       "    }\n",
       "</style>\n",
       "<table border=\"1\" class=\"dataframe\">\n",
       "  <thead>\n",
       "    <tr style=\"text-align: right;\">\n",
       "      <th></th>\n",
       "      <th>age</th>\n",
       "      <th>market_value</th>\n",
       "      <th>fee</th>\n",
       "      <th>positions_new</th>\n",
       "      <th>country_from_new</th>\n",
       "      <th>country_to_new</th>\n",
       "      <th>fee_iqr_replaced</th>\n",
       "    </tr>\n",
       "  </thead>\n",
       "  <tbody>\n",
       "    <tr>\n",
       "      <th>0</th>\n",
       "      <td>21</td>\n",
       "      <td>150.00</td>\n",
       "      <td>60.00</td>\n",
       "      <td>1</td>\n",
       "      <td>1</td>\n",
       "      <td>1</td>\n",
       "      <td>0.5</td>\n",
       "    </tr>\n",
       "    <tr>\n",
       "      <th>1</th>\n",
       "      <td>22</td>\n",
       "      <td>35.00</td>\n",
       "      <td>95.00</td>\n",
       "      <td>0</td>\n",
       "      <td>0</td>\n",
       "      <td>1</td>\n",
       "      <td>0.5</td>\n",
       "    </tr>\n",
       "    <tr>\n",
       "      <th>2</th>\n",
       "      <td>21</td>\n",
       "      <td>40.00</td>\n",
       "      <td>80.40</td>\n",
       "      <td>1</td>\n",
       "      <td>1</td>\n",
       "      <td>1</td>\n",
       "      <td>0.5</td>\n",
       "    </tr>\n",
       "    <tr>\n",
       "      <th>3</th>\n",
       "      <td>23</td>\n",
       "      <td>55.00</td>\n",
       "      <td>75.00</td>\n",
       "      <td>1</td>\n",
       "      <td>0</td>\n",
       "      <td>1</td>\n",
       "      <td>0.5</td>\n",
       "    </tr>\n",
       "    <tr>\n",
       "      <th>4</th>\n",
       "      <td>30</td>\n",
       "      <td>40.00</td>\n",
       "      <td>70.65</td>\n",
       "      <td>1</td>\n",
       "      <td>1</td>\n",
       "      <td>1</td>\n",
       "      <td>0.5</td>\n",
       "    </tr>\n",
       "    <tr>\n",
       "      <th>...</th>\n",
       "      <td>...</td>\n",
       "      <td>...</td>\n",
       "      <td>...</td>\n",
       "      <td>...</td>\n",
       "      <td>...</td>\n",
       "      <td>...</td>\n",
       "      <td>...</td>\n",
       "    </tr>\n",
       "    <tr>\n",
       "      <th>644</th>\n",
       "      <td>22</td>\n",
       "      <td>0.80</td>\n",
       "      <td>1.00</td>\n",
       "      <td>1</td>\n",
       "      <td>0</td>\n",
       "      <td>0</td>\n",
       "      <td>0.5</td>\n",
       "    </tr>\n",
       "    <tr>\n",
       "      <th>645</th>\n",
       "      <td>21</td>\n",
       "      <td>0.75</td>\n",
       "      <td>1.00</td>\n",
       "      <td>1</td>\n",
       "      <td>1</td>\n",
       "      <td>0</td>\n",
       "      <td>0.5</td>\n",
       "    </tr>\n",
       "    <tr>\n",
       "      <th>646</th>\n",
       "      <td>24</td>\n",
       "      <td>1.00</td>\n",
       "      <td>0.75</td>\n",
       "      <td>1</td>\n",
       "      <td>0</td>\n",
       "      <td>0</td>\n",
       "      <td>0.5</td>\n",
       "    </tr>\n",
       "    <tr>\n",
       "      <th>647</th>\n",
       "      <td>24</td>\n",
       "      <td>1.00</td>\n",
       "      <td>0.35</td>\n",
       "      <td>0</td>\n",
       "      <td>0</td>\n",
       "      <td>0</td>\n",
       "      <td>0.5</td>\n",
       "    </tr>\n",
       "    <tr>\n",
       "      <th>648</th>\n",
       "      <td>30</td>\n",
       "      <td>1.00</td>\n",
       "      <td>0.00</td>\n",
       "      <td>1</td>\n",
       "      <td>0</td>\n",
       "      <td>0</td>\n",
       "      <td>0.5</td>\n",
       "    </tr>\n",
       "  </tbody>\n",
       "</table>\n",
       "<p>649 rows × 7 columns</p>\n",
       "</div>"
      ],
      "text/plain": [
       "     age  market_value    fee  positions_new  country_from_new  \\\n",
       "0     21        150.00  60.00              1                 1   \n",
       "1     22         35.00  95.00              0                 0   \n",
       "2     21         40.00  80.40              1                 1   \n",
       "3     23         55.00  75.00              1                 0   \n",
       "4     30         40.00  70.65              1                 1   \n",
       "..   ...           ...    ...            ...               ...   \n",
       "644   22          0.80   1.00              1                 0   \n",
       "645   21          0.75   1.00              1                 1   \n",
       "646   24          1.00   0.75              1                 0   \n",
       "647   24          1.00   0.35              0                 0   \n",
       "648   30          1.00   0.00              1                 0   \n",
       "\n",
       "     country_to_new  fee_iqr_replaced  \n",
       "0                 1               0.5  \n",
       "1                 1               0.5  \n",
       "2                 1               0.5  \n",
       "3                 1               0.5  \n",
       "4                 1               0.5  \n",
       "..              ...               ...  \n",
       "644               0               0.5  \n",
       "645               0               0.5  \n",
       "646               0               0.5  \n",
       "647               0               0.5  \n",
       "648               0               0.5  \n",
       "\n",
       "[649 rows x 7 columns]"
      ]
     },
     "execution_count": 209,
     "metadata": {},
     "output_type": "execute_result"
    }
   ],
   "source": [
    "df5"
   ]
  },
  {
   "cell_type": "code",
   "execution_count": 213,
   "id": "5bd9cd42-f9f4-4692-b222-6abf7fb1a78e",
   "metadata": {},
   "outputs": [
    {
     "data": {
      "image/png": "[encoded data removed]",
      "text/plain": [
       "<Figure size 1000x600 with 1 Axes>"
      ]
     },
     "metadata": {},
     "output_type": "display_data"
    }
   ],
   "source": [
    "plt.figure(figsize=(10, 6))\n",
    "sns.histplot(df5['fee_iqr_replaced'], kde=True)\n",
    "plt.title('Distribution of fee')\n",
    "plt.show()"
   ]
  },
  {
   "cell_type": "code",
   "execution_count": null,
   "id": "dc9a7745-0e84-4c99-8809-46440dedf773",
   "metadata": {},
   "outputs": [],
   "source": []
  }
 ],
 "metadata": {
  "kernelspec": {
   "display_name": "Python 3 (ipykernel)",
   "language": "python",
   "name": "python3"
  },
  "language_info": {
   "codemirror_mode": {
    "name": "ipython",
    "version": 3
   },
   "file_extension": ".py",
   "mimetype": "text/x-python",
   "name": "python",
   "nbconvert_exporter": "python",
   "pygments_lexer": "ipython3",
   "version": "3.12.4"
  }
 },
 "nbformat": 4,
 "nbformat_minor": 5
}
